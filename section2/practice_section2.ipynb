{
 "cells": [
  {
   "cell_type": "markdown",
   "metadata": {},
   "source": [
    "# Practice Section 2"
   ]
  },
  {
   "cell_type": "markdown",
   "metadata": {},
   "source": [
    "After complete learn section 2: Unsupervised Learning (Clustering), You need to test your understanding with this section with answer all of these question below."
   ]
  },
  {
   "cell_type": "code",
   "execution_count": 1,
   "metadata": {},
   "outputs": [],
   "source": [
    "#WARNING: ONLY RUN THIS CELL ONCE. IF YOU BY MISTAKE RUN THIS CELL MORE THAN ONE PLEASE RESTART THIS NOTEBOOK\n",
    "# This cell purpose is to point one level up to main directory\n",
    "import os\n",
    "os.chdir('..')"
   ]
  },
  {
   "cell_type": "markdown",
   "metadata": {},
   "source": [
    "**Then Run This Cell**"
   ]
  },
  {
   "cell_type": "code",
   "execution_count": 2,
   "metadata": {},
   "outputs": [],
   "source": [
    "import matplotlib.pyplot as plt\n",
    "from kmeans import KMeans\n",
    "from tools.clustering_metrics import evaluation_report\n",
    "from tools.utils import load_csv_data, train_test_split\n",
    "\n",
    "dataset_path = './dataset/abalone_dataset.csv'\n",
    "x_column = ['Length', 'Diameter', 'Height', 'Whole Weight', 'Shucked Weight', 'Viscera Weight', 'Shell Weight', 'Rings']\n",
    "y_column = 'Gender'\n",
    "x_data, y_data = load_csv_data(dataset_path, x_column, y_column)\n",
    "x_train, y_train, x_test, y_test = train_test_split(x_data, y_data, 0.7)"
   ]
  },
  {
   "cell_type": "markdown",
   "metadata": {},
   "source": [
    "### Question 1\n",
    "Try to predict a Kmeans model with test dataset from **Abalone Dataset** with number of cluster = 3 and epoch = 20. How is the result shown? Try to implement the result using the currently available metrics."
   ]
  },
  {
   "cell_type": "code",
   "execution_count": null,
   "metadata": {},
   "outputs": [],
   "source": [
    "# Write your code here"
   ]
  },
  {
   "cell_type": "markdown",
   "metadata": {},
   "source": [
    "<details><summary>Click here for Question 1 solution</summary>\n",
    "\n",
    "```python\n",
    "kmeans_preds = KMeans(n_clusters=3, iterations=20)\n",
    "centroid, inertia = kmeans_preds.fit(x_data)\n",
    "result = kmeans_preds.predict(x_test)\n",
    "evaluation_report(x_test, result, 'euclid')\n",
    "```\n",
    "\n",
    "</details>"
   ]
  },
  {
   "cell_type": "markdown",
   "metadata": {},
   "source": [
    "### Question 2\n",
    "Can you visualize the Kmeans model result with its elbow method visualization in a plot using **Abalone Dataset**? Try to use number of cluster equal to 5 and epoch = 50!"
   ]
  },
  {
   "cell_type": "code",
   "execution_count": null,
   "metadata": {},
   "outputs": [],
   "source": [
    "# Write your code here"
   ]
  },
  {
   "cell_type": "markdown",
   "metadata": {},
   "source": [
    "<details><summary>Click here for Question 2 solution</summary>\n",
    "\n",
    "```python\n",
    "from kmeans import visualize_preds_kmeans, visualize_elbow_kmeans\n",
    "kmeans_preds = KMeans(n_clusters=5, iterations=50)\n",
    "centroid, inertia = kmeans_preds.fit(x_data)\n",
    "result = kmeans_preds.predict(x_test)\n",
    "visualize_preds_kmeans(x_test, result, centroid)\n",
    "visualize_elbow_kmeans(x_data)\n",
    "```\n",
    "\n",
    "</details>"
   ]
  },
  {
   "cell_type": "markdown",
   "metadata": {},
   "source": [
    "## Congratulations for your achievement in this section 2 practice 👏👏👏\n",
    "## You can continue your learning journey to section 3: Supervised Learning 💪💪💪"
   ]
  }
 ],
 "metadata": {
  "kernelspec": {
   "display_name": "Python 3",
   "language": "python",
   "name": "python3"
  },
  "language_info": {
   "codemirror_mode": {
    "name": "ipython",
    "version": 3
   },
   "file_extension": ".py",
   "mimetype": "text/x-python",
   "name": "python",
   "nbconvert_exporter": "python",
   "pygments_lexer": "ipython3",
   "version": "3.8.3"
  }
 },
 "nbformat": 4,
 "nbformat_minor": 2
}
