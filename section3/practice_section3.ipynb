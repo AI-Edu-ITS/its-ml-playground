{
 "cells": [
  {
   "cell_type": "markdown",
   "metadata": {},
   "source": [
    "# Practice Section 3"
   ]
  },
  {
   "cell_type": "markdown",
   "metadata": {},
   "source": [
    "After completing learning Section 3: Supervised Learning, You should test your understanding by answering all of these questions below.​​​​​​"
   ]
  },
  {
   "cell_type": "markdown",
   "metadata": {},
   "source": [
    "**First, you need to run this cell once**"
   ]
  },
  {
   "cell_type": "code",
   "execution_count": 1,
   "metadata": {},
   "outputs": [],
   "source": [
    "#WARNING: ONLY RUN THIS CELL ONCE. IF YOU BY MISTAKE RUN THIS CELL MORE THAN ONE PLEASE RESTART THIS NOTEBOOK\n",
    "# This cell purpose is to point one level up to main directory\n",
    "import os\n",
    "os.chdir('..')"
   ]
  },
  {
   "cell_type": "markdown",
   "metadata": {},
   "source": [
    "**Then run this cell**"
   ]
  },
  {
   "cell_type": "code",
   "execution_count": 13,
   "metadata": {},
   "outputs": [],
   "source": [
    "import matplotlib.pyplot as plt\n",
    "from knn import kNN\n",
    "from tools.classification_metrics import calc_f1score\n",
    "from tools.utils import load_csv_data, train_test_split\n",
    "\n",
    "dataset_path = './dataset/abalone_dataset.csv'\n",
    "x_column = ['Length', 'Diameter', 'Height', 'Whole Weight', 'Shucked Weight', 'Viscera Weight', 'Shell Weight', 'Rings']\n",
    "y_column = 'Gender'\n",
    "x_data, y_data = load_csv_data(dataset_path, x_column, y_column)\n",
    "x_train, y_train, x_test, y_test = train_test_split(x_data, y_data, 0.7)"
   ]
  },
  {
   "cell_type": "markdown",
   "metadata": {},
   "source": [
    "### Question 1\n",
    "Try to predict **Abalone Dataset** using KNN and show the result based on its precision, recall, and f1-score with k=2 and distance metric manhattan. Is the result good?"
   ]
  },
  {
   "cell_type": "code",
   "execution_count": null,
   "metadata": {},
   "outputs": [],
   "source": [
    "# Write your code here"
   ]
  },
  {
   "cell_type": "markdown",
   "metadata": {},
   "source": [
    "<details><summary>Click here for Question 1 solution</summary>\n",
    "\n",
    "```python\n",
    "knn_preds = kNN(k_neighbours=2, dist_metric='manhattan')\n",
    "knn_preds.fit(x_train, y_train)\n",
    "result = knn_preds.predict(x_test)\n",
    "precision, recall, f1score = calc_f1score(result, y_test)\n",
    "print('Precision = ', precision)\n",
    "print('Recall = ', recall)\n",
    "print('F1-Score = ', f1score)\n",
    "```\n",
    "\n",
    "</details>"
   ]
  },
  {
   "cell_type": "markdown",
   "metadata": {},
   "source": [
    "### Question 2\n",
    "Using **Abalone Dataset**, try to find the best k in range of 1 until 5 and plot it based on its precision, recall, and f1-score using minkowski distance with p = 3. You must seperate the results in 3 line which represent each metric. You must draw all line on one plot. Can you find the best k based on its precision, recall, and f1-score results?"
   ]
  },
  {
   "cell_type": "code",
   "execution_count": null,
   "metadata": {},
   "outputs": [],
   "source": [
    "# Write your code here"
   ]
  },
  {
   "cell_type": "markdown",
   "metadata": {},
   "source": [
    "<details><summary>Click here for Question 2 solution</summary>\n",
    "\n",
    "```python\n",
    "precision_list = []\n",
    "recall_list = []\n",
    "f1_score_list = []\n",
    "for k in range(1,5):\n",
    "    knn_preds = kNN(k, 'minkowski', 3)\n",
    "    knn_preds.fit(x_train, y_train)\n",
    "    result = knn_preds.predict(x_test)\n",
    "    precision, recall, f1score = calc_f1score(result, y_test)\n",
    "    precision_list.append(precision)\n",
    "    recall_list.append(recall)\n",
    "    f1_score_list.append(f1score)\n",
    "\n",
    "plt.plot(range(1,5), precision_list, label='Precision', color='green')\n",
    "plt.plot(range(1,5), recall_list, label='Recall', color='red')\n",
    "plt.plot(range(1,5), f1_score_list, label='F1-Score', color='blue')\n",
    "plt.legend()\n",
    "plt.xlabel('K-Value')\n",
    "plt.ylabel('Result')\n",
    "plt.show()\n",
    "```\n",
    "\n",
    "</details>"
   ]
  },
  {
   "cell_type": "markdown",
   "metadata": {},
   "source": [
    "## Congratulations for your achievement in this section 3 practice 👏👏👏\n",
    "## You can continue your learning journey to section 4: Function-Based Supervised Learning 💪💪💪"
   ]
  }
 ],
 "metadata": {
  "kernelspec": {
   "display_name": "Python 3",
   "language": "python",
   "name": "python3"
  },
  "language_info": {
   "codemirror_mode": {
    "name": "ipython",
    "version": 3
   },
   "file_extension": ".py",
   "mimetype": "text/x-python",
   "name": "python",
   "nbconvert_exporter": "python",
   "pygments_lexer": "ipython3",
   "version": "3.8.3"
  }
 },
 "nbformat": 4,
 "nbformat_minor": 2
}
