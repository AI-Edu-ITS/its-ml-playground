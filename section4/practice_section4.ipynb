{
 "cells": [
  {
   "cell_type": "markdown",
   "metadata": {},
   "source": [
    "# Practice Section 4"
   ]
  },
  {
   "cell_type": "markdown",
   "metadata": {},
   "source": [
    "After completing learning Section 4: Function-Based Supervised Learning, You should test your understanding by answering all of these questions below.​​​​​"
   ]
  },
  {
   "cell_type": "markdown",
   "metadata": {},
   "source": [
    "**First, you need to run this cell once**"
   ]
  },
  {
   "cell_type": "code",
   "execution_count": 1,
   "metadata": {},
   "outputs": [],
   "source": [
    "#WARNING: ONLY RUN THIS CELL ONCE. IF YOU BY MISTAKE RUN THIS CELL MORE THAN ONE PLEASE RESTART THIS NOTEBOOK\n",
    "# This cell purpose is to point one level up to main directory\n",
    "import os\n",
    "os.chdir('..')"
   ]
  },
  {
   "cell_type": "markdown",
   "metadata": {},
   "source": [
    "**Then run this cell**"
   ]
  },
  {
   "cell_type": "code",
   "execution_count": 2,
   "metadata": {},
   "outputs": [],
   "source": [
    "import numpy as np\n",
    "import matplotlib.pyplot as plt\n",
    "from ann import MLPClassifier\n",
    "from tools.classification_metrics import calc_accuracy\n",
    "from tools.utils import load_csv_data, train_test_split\n",
    "\n",
    "dataset_path = './dataset/abalone_dataset.csv'\n",
    "x_column = ['Length', 'Diameter', 'Height', 'Whole Weight', 'Shucked Weight', 'Viscera Weight', 'Shell Weight', 'Rings']\n",
    "y_column = 'Gender'\n",
    "x_data, y_data = load_csv_data(dataset_path, x_column, y_column)\n",
    "x_train, y_train, x_test, y_test = train_test_split(x_data, y_data, 0.7)"
   ]
  },
  {
   "cell_type": "markdown",
   "metadata": {},
   "source": [
    "### Question 1\n",
    "Try to predict **Abalone Dataset** using Artificial Neural Network (ANN) and show the result based on its accuracy percentage using Tanh activation, number of hidden layer 5, and learning rate 0.001 for 20 epochs. Is the result good?"
   ]
  },
  {
   "cell_type": "code",
   "execution_count": null,
   "metadata": {},
   "outputs": [],
   "source": [
    "# Write Your Code Here"
   ]
  },
  {
   "cell_type": "markdown",
   "metadata": {},
   "source": [
    "<details><summary>Click here for Question 1 solution</summary>\n",
    "\n",
    "```python\n",
    "n_samples, n_features = x_train.shape\n",
    "num_classes = len(np.unique(y_train))\n",
    "ann_preds = MLPClassifier(\n",
    "    input_layer=n_features, \n",
    "    hidden_layer=5, \n",
    "    output_layer=num_classes, \n",
    "    learning_rate=0.001, \n",
    "    epochs=20,\n",
    "    activation='sigmoid', \n",
    "    verbose=True\n",
    ")\n",
    "ann_preds.fit(x_train, y_train)\n",
    "result = ann_preds.predict(x_test)\n",
    "print('Accuracy value is = ',calc_accuracy(result, y_test))\n",
    "```\n",
    "\n",
    "</details>"
   ]
  },
  {
   "cell_type": "markdown",
   "metadata": {},
   "source": [
    "### Question 2\n",
    "Using different number of hidden layer and maintain same configuration as question 1 above, try to plot each loss as line in single plot. What number of hidden layer can lead to fast convergence?"
   ]
  },
  {
   "cell_type": "code",
   "execution_count": null,
   "metadata": {},
   "outputs": [],
   "source": [
    "# Write Your Code Here"
   ]
  },
  {
   "cell_type": "markdown",
   "metadata": {},
   "source": [
    "<details><summary>Click here for Question 2 solution</summary>\n",
    "\n",
    "```python\n",
    "# We use hidden layer 2 and 5\n",
    "n_samples, n_features = x_train.shape\n",
    "num_classes = len(np.unique(y_train))\n",
    "# hidden layer 2\n",
    "ann_first = MLPClassifier(input_layer=n_features, hidden_layer=2, output_layer=num_classes, learning_rate=0.001, epochs=20, activation='tanh', verbose=False)\n",
    "ann_first.fit(x_train, y_train)\n",
    "loss_first = ann_first.error_list\n",
    "\n",
    "#hidden layer 5\n",
    "ann_second = MLPClassifier(input_layer=n_features, hidden_layer=5, output_layer=num_classes, learning_rate=0.001, epochs=20, activation='tanh', verbose=False)\n",
    "ann_second.fit(x_train, y_train)\n",
    "loss_second = ann_second.error_list\n",
    "\n",
    "epoch = range(0,20)\n",
    "\n",
    "# create plot\n",
    "plt.plot(epoch, loss_first, label='Hidden Layer = 2', color='blue')\n",
    "plt.plot(epoch, loss_second, label='Hidden Layer = 5', color='red')\n",
    "plt.xlabel('Epochs')\n",
    "plt.ylabel('Loss Value')\n",
    "plt.legend()\n",
    "plt.show()\n",
    "```\n",
    "\n",
    "</details>"
   ]
  },
  {
   "cell_type": "markdown",
   "metadata": {},
   "source": [
    "## Congratulations for your achievement in this section 4 practice 👏👏👏\n",
    "## You can continue your learning journey to section 5: Semi-Supervised Learning 💪💪💪"
   ]
  }
 ],
 "metadata": {
  "kernelspec": {
   "display_name": "Python 3",
   "language": "python",
   "name": "python3"
  },
  "language_info": {
   "codemirror_mode": {
    "name": "ipython",
    "version": 3
   },
   "file_extension": ".py",
   "mimetype": "text/x-python",
   "name": "python",
   "nbconvert_exporter": "python",
   "pygments_lexer": "ipython3",
   "version": "3.8.3"
  }
 },
 "nbformat": 4,
 "nbformat_minor": 2
}
