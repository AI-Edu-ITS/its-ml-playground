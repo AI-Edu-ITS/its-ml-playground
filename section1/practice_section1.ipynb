{
 "cells": [
  {
   "cell_type": "markdown",
   "metadata": {},
   "source": [
    "# Practice Section 1"
   ]
  },
  {
   "cell_type": "markdown",
   "metadata": {},
   "source": [
    "After completing learning Section 1: Introduction, You should test your understanding by answering all of these questions below.​​​​​​​"
   ]
  },
  {
   "cell_type": "code",
   "execution_count": 2,
   "metadata": {},
   "outputs": [],
   "source": [
    "#WARNING: ONLY RUN THIS CELL ONCE. IF YOU BY MISTAKE RUN THIS CELL MORE THAN ONE PLEASE RESTART THIS NOTEBOOK\n",
    "# This cell purpose is to point one level up to main directory\n",
    "import os\n",
    "os.chdir('..')"
   ]
  },
  {
   "cell_type": "code",
   "execution_count": null,
   "metadata": {},
   "outputs": [],
   "source": [
    "# Run this cell first before answer all of questions below\n",
    "import pandas as pd\n",
    "import matplotlib.pyplot as plt\n",
    "\n",
    "dataset_path = './dataset/abalone_dataset.csv'\n",
    "df = pd.read_csv(dataset_path, sep=',', index_col=False)\n",
    "df.head(5)"
   ]
  },
  {
   "cell_type": "markdown",
   "metadata": {},
   "source": [
    "### Question 1\n",
    "Try to plot **Abalone Dataset** using matplotlib. You need to show sum all of available rows based on its **Gender** and plot it using Bar Column. Don't forget to give different color in each line"
   ]
  },
  {
   "cell_type": "code",
   "execution_count": null,
   "metadata": {},
   "outputs": [],
   "source": [
    "# Write Your Code Here"
   ]
  },
  {
   "cell_type": "markdown",
   "metadata": {},
   "source": [
    "<details><summary>Click here for Question 1 solution</summary>\n",
    "\n",
    "```python\n",
    "gender_column = df.iloc[:,0].tolist()\n",
    "gender_data = {i:gender_column.count(i) for i in gender_column}\n",
    "gender_data\n",
    "\n",
    "x_label = ['Male', 'Female', 'Infant']\n",
    "label_count = [gender_data['M'], gender_data['F'], gender_data['I']]\n",
    "label_color = ['red', 'green', 'blue']\n",
    "\n",
    "plt.bar(x_label, label_count, color=label_color, label=x_label)\n",
    "plt.ylabel('Data Count')\n",
    "plt.title('Dataset Count based on Gender')\n",
    "plt.legend()\n",
    "plt.show()\n",
    "\n",
    "```\n",
    "\n",
    "</details>"
   ]
  },
  {
   "cell_type": "markdown",
   "metadata": {},
   "source": [
    "### Question 2\n",
    "Can you sort **Abalone Dataset** rows based on **Height** column? You need to sort it in **Descending** manner and dont forget to show the top 5 data after sorting."
   ]
  },
  {
   "cell_type": "code",
   "execution_count": null,
   "metadata": {},
   "outputs": [],
   "source": [
    "# Write Your Code Here"
   ]
  },
  {
   "cell_type": "markdown",
   "metadata": {},
   "source": [
    "<details><summary>Click here for Question 2 Solution</summary>\n",
    "\n",
    "```python\n",
    "sorted = df.sort_values(by=['Height'], ascending=False)\n",
    "sorted.head(5)\n",
    "\n",
    "```\n",
    "</details>"
   ]
  },
  {
   "cell_type": "markdown",
   "metadata": {},
   "source": [
    "## Congratulations for your achievement in this section 1 practice 👏👏👏\n",
    "## You can continue your learning journey to Section 2: Unsupervised Learning (Clustering) 💪💪💪"
   ]
  }
 ],
 "metadata": {
  "kernelspec": {
   "display_name": "Python 3",
   "language": "python",
   "name": "python3"
  },
  "language_info": {
   "codemirror_mode": {
    "name": "ipython",
    "version": 3
   },
   "file_extension": ".py",
   "mimetype": "text/x-python",
   "name": "python",
   "nbconvert_exporter": "python",
   "pygments_lexer": "ipython3",
   "version": "3.8.3"
  }
 },
 "nbformat": 4,
 "nbformat_minor": 2
}
