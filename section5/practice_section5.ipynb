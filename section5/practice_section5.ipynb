{
 "cells": [
  {
   "cell_type": "markdown",
   "metadata": {},
   "source": [
    "# Practice Section 5"
   ]
  },
  {
   "cell_type": "markdown",
   "metadata": {},
   "source": [
    "After learning section 5: Semi-Supervised Learning, You need to test your understanding with this section with answer all of these question below."
   ]
  },
  {
   "cell_type": "markdown",
   "metadata": {},
   "source": [
    "Before starting to answer all questions provided, please run all cells below based on instruction given in each cell"
   ]
  },
  {
   "cell_type": "code",
   "execution_count": 1,
   "metadata": {},
   "outputs": [],
   "source": [
    "#WARNING: ONLY RUN THIS CELL ONCE. IF YOU BY MISTAKE RUN THIS CELL MORE THAN ONE PLEASE RESTART THIS NOTEBOOK\n",
    "# This cell purpose is to point one level up to main directory\n",
    "import os\n",
    "os.chdir('..')"
   ]
  },
  {
   "cell_type": "markdown",
   "metadata": {},
   "source": [
    "**Then run this cell**"
   ]
  },
  {
   "cell_type": "code",
   "execution_count": 16,
   "metadata": {},
   "outputs": [],
   "source": [
    "from self_training_classifier import SelfTrainingClassifier\n",
    "from tools.utils import load_csv_data, train_test_split\n",
    "from tools.classification_metrics import evaluation_report\n",
    "\n",
    "dataset_path = './dataset/shop_customer_dataset.csv'\n",
    "x_columns = ['Annual Income ($)','Spending Score (1-100)','Work Experience','Family Size']\n",
    "y_columns = 'Gender'\n",
    "x_data, y_data = load_csv_data(dataset_path, x_columns, y_columns)\n",
    "# limit the data to faster training\n",
    "x_data = x_data[:200, :]\n",
    "y_data = y_data[:200]"
   ]
  },
  {
   "cell_type": "markdown",
   "metadata": {},
   "source": [
    "### Question 1\n",
    "Try to predict a Self Training Classifier model with dataset from **Shop Customer Dataset** using KNN classifier, train ratio = 0.7, unlabeled ratio from training data = 0.7, and epoch = 3. How is the result shown? Show the average accuracy from knn prediction result"
   ]
  },
  {
   "cell_type": "code",
   "execution_count": null,
   "metadata": {},
   "outputs": [],
   "source": [
    "# Write Your Code Here"
   ]
  },
  {
   "cell_type": "markdown",
   "metadata": {},
   "source": [
    "<details><summary>Click here for Question 1 solution</summary>\n",
    "\n",
    "```python\n",
    "import numpy as np\n",
    "from section3.knn import kNN\n",
    "x_train, y_train, x_test, y_test = train_test_split(x_data, y_data, train_size=0.7)\n",
    "x_unlabeled, y_unlebeled, x_new_train, y_new_train = train_test_split(x_train, y_train, train_size=0.7)\n",
    "self_train_preds = SelfTrainingClassifier(kNN(), iteration=3, verbose=True)\n",
    "self_train_preds.fit(x_train, y_train, x_unlabeled)\n",
    "print(f'Average Accuracy = {np.mean(self_train_preds.train_acc_list)}')\n",
    "```\n",
    "\n",
    "</details>"
   ]
  },
  {
   "cell_type": "markdown",
   "metadata": {},
   "source": [
    "# Question 2\n",
    "Show its result using classification evaluation metrics provided in these code repository!"
   ]
  },
  {
   "cell_type": "code",
   "execution_count": null,
   "metadata": {},
   "outputs": [],
   "source": [
    "# Write Your Code Here"
   ]
  },
  {
   "cell_type": "markdown",
   "metadata": {},
   "source": [
    "<details><summary>Click here for Question 2 solution</summary>\n",
    "\n",
    "```python\n",
    "preds = self_train_preds.predict(self_train_preds.new_x_data)\n",
    "evaluation_report('Self Training Classifier', preds, self_train_preds.new_y_data)\n",
    "```\n",
    "\n",
    "</details>"
   ]
  },
  {
   "cell_type": "markdown",
   "metadata": {},
   "source": [
    "## Congratulations for your completion in all sections practice!!"
   ]
  }
 ],
 "metadata": {
  "kernelspec": {
   "display_name": "Python 3",
   "language": "python",
   "name": "python3"
  },
  "language_info": {
   "codemirror_mode": {
    "name": "ipython",
    "version": 3
   },
   "file_extension": ".py",
   "mimetype": "text/x-python",
   "name": "python",
   "nbconvert_exporter": "python",
   "pygments_lexer": "ipython3",
   "version": "3.8.3"
  }
 },
 "nbformat": 4,
 "nbformat_minor": 2
}
